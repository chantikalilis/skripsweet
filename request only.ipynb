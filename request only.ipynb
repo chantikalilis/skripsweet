{
 "cells": [
  {
   "cell_type": "code",
   "execution_count": 1,
   "metadata": {},
   "outputs": [],
   "source": [
    "import requests\n",
    "import json\n",
    "import time\n",
    "import csv"
   ]
  },
  {
   "cell_type": "code",
   "execution_count": null,
   "metadata": {},
   "outputs": [],
   "source": [
    "url = 'https://www.instagram.com/graphql/query'\n",
    "\n",
    "short_code = input('Please enter a short code : ')\n",
    "# short_code = 'CPA7cWuDMNx'\n",
    "\n",
    "headers = {'cookie': 'sessionid=1914542516%3Atx3TjujU7YmqjY%3A26'}\n",
    "\n",
    "end_cursor = ''\n",
    "count = 0\n",
    "counter_file = 1\n",
    "jumlah_per_file = 1000\n",
    "\n",
    "writer = csv.writer(open(\n",
    "    'hasil-komentar/{} {}.csv'.format(short_code, counter_file), 'w', newline=''))\n",
    "head = ['Username', 'Text']\n",
    "writer.writerow(head)\n",
    "\n",
    "while 1:\n",
    "    var = {\"shortcode\": short_code, \"first\": 50, \"after\": end_cursor}\n",
    "    params = {\n",
    "        'query_hash': 'bc3296d1ce80a24b1b6e40b1e72903f5',\n",
    "        'variables': json.dumps(var)\n",
    "    }\n",
    "\n",
    "    r = requests.get(url, headers=headers, params=params).json()\n",
    "\n",
    "    try:\n",
    "        users = r['data']['shortcode_media']['edge_media_to_parent_comment']['edges']\n",
    "    except:\n",
    "        print('wait 60 seconds')\n",
    "        time.sleep(60)\n",
    "        continue\n",
    "\n",
    "    for user in users:\n",
    "        if count % jumlah_per_file == 0 and count != 0:\n",
    "            counter_file += 1\n",
    "            writer = csv.writer(open(\n",
    "                'hasil-komentar/{} {}.csv'.format(short_code, counter_file), 'w', newline=''))\n",
    "            head = ['Username', 'Text']\n",
    "            writer.writerow(head)\n",
    "        username = user['node']['owner']['username']\n",
    "        text = user['node']['text']\n",
    "        writer = csv.writer(open('hasil-komentar/{} {}.csv'.format(short_code,\n",
    "                            counter_file), 'a', newline='', encoding='utf-8'))\n",
    "        data = [username, text]\n",
    "        writer.writerow(data)\n",
    "        count += 1\n",
    "        print(count, username, text)\n",
    "\n",
    "    end_cursor = r['data']['shortcode_media']['edge_media_to_parent_comment']['page_info']['end_cursor']\n",
    "    hash_next_page = r['data']['shortcode_media']['edge_media_to_parent_comment']['page_info']['has_next_page']\n",
    "    if hash_next_page == False:\n",
    "        break\n",
    "\n",
    "    time.sleep(10)\n"
   ]
  },
  {
   "cell_type": "code",
   "execution_count": 30,
   "metadata": {},
   "outputs": [
    {
     "name": "stdout",
     "output_type": "stream",
     "text": [
      "Please enter a short code : CVPKBoTpMV9\n"
     ]
    }
   ],
   "source": [
    "url = 'https://www.instagram.com/graphql/query'\n",
    "\n",
    "short_code = input('Please enter a short code : ')\n",
    "\n",
    "headers = {'cookie': 'sessionid=1914542516%3Atx3TjujU7YmqjY%3A26'}\n",
    "\n",
    "\n",
    "var = {\"shortcode\": short_code, \"first\": 50}\n",
    "params = {\n",
    "    'query_hash': 'bc3296d1ce80a24b1b6e40b1e72903f5',\n",
    "    'variables': json.dumps(var)\n",
    "}\n",
    "\n",
    "r = requests.get(url, headers=headers, params=params).json()\n"
   ]
  },
  {
   "cell_type": "code",
   "execution_count": 37,
   "metadata": {},
   "outputs": [],
   "source": [
    "users = r['data']['shortcode_media']['edge_media_to_parent_comment']['edges']"
   ]
  },
  {
   "cell_type": "code",
   "execution_count": 41,
   "metadata": {
    "collapsed": true
   },
   "outputs": [
    {
     "name": "stdout",
     "output_type": "stream",
     "text": [
      "ecamaresha\n",
      "ecamaresha\n",
      "irliewijanarko\n",
      "anisareti_\n",
      "stephani.aprilia\n",
      "rozialwi\n",
      "aghniavalerie_\n",
      "caniggiarheza\n",
      "chusainzuhrijoe\n",
      "ariansah.sr4\n",
      "yufiraazahra17\n",
      "aldiiiwongs\n",
      "its.tian15\n",
      "ermasari27\n",
      "faisaladim\n",
      "falihrby_\n",
      "nastasya_dwi_syahara\n",
      "niko_setiawan_siregar\n",
      "nabilavira18\n",
      "agnezputrii\n",
      "march_3li4\n",
      "adrianpriananto\n",
      "bilqisuci\n",
      "nekacitrawati\n",
      "irfnfdlh\n",
      "novayantiarzakyputri\n",
      "eniidesiikumalasarii\n",
      "ald__do\n",
      "wahyuaji1904\n",
      "ikutinkeseruankita\n",
      "depihutasweet\n",
      "riniafrianiju\n",
      "mhmd_alkahfi\n",
      "raisa_zahra_aisyah\n",
      "aestetica_\n",
      "ofitaalianaa\n",
      "sofia.marzuki\n",
      "devi_y.a\n",
      "devimayangsari98\n",
      "bellalubis67\n",
      "anggi.pr_\n",
      "aitum08\n",
      "d_abdulmanaf\n",
      "retnoheny\n",
      "eka_sumarni29\n",
      "endahadila1\n",
      "ayumicahyani\n",
      "astri.risna04\n",
      "lestary.22\n",
      "ismchyt\n"
     ]
    }
   ],
   "source": [
    "for user in users:\n",
    "    name = user['node']['owner']['username']\n",
    "    print(name)"
   ]
  },
  {
   "cell_type": "code",
   "execution_count": null,
   "metadata": {},
   "outputs": [],
   "source": []
  }
 ],
 "metadata": {
  "kernelspec": {
   "display_name": "Python 3 (ipykernel)",
   "language": "python",
   "name": "python3"
  },
  "language_info": {
   "codemirror_mode": {
    "name": "ipython",
    "version": 3
   },
   "file_extension": ".py",
   "mimetype": "text/x-python",
   "name": "python",
   "nbconvert_exporter": "python",
   "pygments_lexer": "ipython3",
   "version": "3.9.12"
  }
 },
 "nbformat": 4,
 "nbformat_minor": 4
}
