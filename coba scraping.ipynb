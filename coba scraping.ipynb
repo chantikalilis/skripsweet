{
 "cells": [
  {
   "cell_type": "code",
   "execution_count": 2,
   "id": "1d1de897",
   "metadata": {},
   "outputs": [],
   "source": [
    "import requests\n",
    "import json\n",
    "import time\n",
    "import csv\n",
    "import pandas as pd\n",
    "from selenium import webdriver\n",
    "from selenium.webdriver.common.keys import Keys\n",
    "from selenium.webdriver.support import expected_conditions as EC\n",
    "from selenium.webdriver.common.by import By\n",
    "from selenium.common import exceptions\n",
    "from selenium.webdriver.support.wait import WebDriverWait"
   ]
  },
  {
   "cell_type": "code",
   "execution_count": 2,
   "id": "3869a382",
   "metadata": {},
   "outputs": [
    {
     "name": "stdout",
     "output_type": "stream",
     "text": [
      "Collecting selenium\n",
      "  Downloading selenium-4.4.3-py3-none-any.whl (985 kB)\n",
      "Requirement already satisfied: certifi>=2021.10.8 in c:\\users\\asus\\anaconda3\\lib\\site-packages (from selenium) (2021.10.8)\n",
      "Requirement already satisfied: urllib3[socks]~=1.26 in c:\\users\\asus\\anaconda3\\lib\\site-packages (from selenium) (1.26.9)\n",
      "Collecting trio~=0.17\n",
      "  Downloading trio-0.21.0-py3-none-any.whl (358 kB)\n",
      "Collecting trio-websocket~=0.9\n",
      "  Downloading trio_websocket-0.9.2-py3-none-any.whl (16 kB)\n",
      "Requirement already satisfied: attrs>=19.2.0 in c:\\users\\asus\\anaconda3\\lib\\site-packages (from trio~=0.17->selenium) (21.4.0)\n",
      "Requirement already satisfied: sortedcontainers in c:\\users\\asus\\anaconda3\\lib\\site-packages (from trio~=0.17->selenium) (2.4.0)\n",
      "Collecting async-generator>=1.9\n",
      "  Downloading async_generator-1.10-py3-none-any.whl (18 kB)\n",
      "Collecting outcome\n",
      "  Downloading outcome-1.2.0-py2.py3-none-any.whl (9.7 kB)\n",
      "Requirement already satisfied: cffi>=1.14 in c:\\users\\asus\\anaconda3\\lib\\site-packages (from trio~=0.17->selenium) (1.15.0)\n",
      "Requirement already satisfied: idna in c:\\users\\asus\\anaconda3\\lib\\site-packages (from trio~=0.17->selenium) (3.3)\n",
      "Requirement already satisfied: sniffio in c:\\users\\asus\\anaconda3\\lib\\site-packages (from trio~=0.17->selenium) (1.2.0)\n",
      "Requirement already satisfied: pycparser in c:\\users\\asus\\anaconda3\\lib\\site-packages (from cffi>=1.14->trio~=0.17->selenium) (2.21)\n",
      "Collecting wsproto>=0.14\n",
      "  Downloading wsproto-1.1.0-py3-none-any.whl (24 kB)\n",
      "Requirement already satisfied: PySocks!=1.5.7,<2.0,>=1.5.6 in c:\\users\\asus\\anaconda3\\lib\\site-packages (from urllib3[socks]~=1.26->selenium) (1.7.1)\n",
      "Collecting h11<1,>=0.9.0\n",
      "  Downloading h11-0.13.0-py3-none-any.whl (58 kB)\n",
      "Installing collected packages: outcome, h11, async-generator, wsproto, trio, trio-websocket, selenium\n",
      "Successfully installed async-generator-1.10 h11-0.13.0 outcome-1.2.0 selenium-4.4.3 trio-0.21.0 trio-websocket-0.9.2 wsproto-1.1.0\n"
     ]
    }
   ],
   "source": [
    "!pip install selenium"
   ]
  },
  {
   "cell_type": "code",
   "execution_count": 3,
   "id": "7989eef8",
   "metadata": {},
   "outputs": [
    {
     "name": "stderr",
     "output_type": "stream",
     "text": [
      "C:\\Users\\Asus\\AppData\\Local\\Temp\\ipykernel_18256\\2610148921.py:1: DeprecationWarning: executable_path has been deprecated, please pass in a Service object\n",
      "  driver = webdriver.Chrome(\"D:\\SKRIPSI\\chromedriver.exe\")\n"
     ]
    }
   ],
   "source": [
    "driver = webdriver.Chrome(\"D:\\SKRIPSI\\chromedriver.exe\")"
   ]
  },
  {
   "cell_type": "code",
   "execution_count": 4,
   "id": "304a93ed",
   "metadata": {},
   "outputs": [],
   "source": [
    "driver.get(\"https://www.instagram.com/\")"
   ]
  },
  {
   "cell_type": "code",
   "execution_count": 5,
   "id": "c72c85d5",
   "metadata": {},
   "outputs": [],
   "source": [
    "username = WebDriverWait(driver, 10).until(EC.element_to_be_clickable((By.CSS_SELECTOR, \"input[name='username']\")))\n",
    "password = WebDriverWait(driver, 10).until(EC.element_to_be_clickable((By.CSS_SELECTOR, \"input[name='password']\")))"
   ]
  },
  {
   "cell_type": "code",
   "execution_count": 6,
   "id": "ec888bc7",
   "metadata": {},
   "outputs": [],
   "source": [
    "username.clear()\n",
    "username.send_keys(\"chantikalilis_\")\n",
    "password.clear()\n",
    "password.send_keys(\"061299\")\n",
    "\n",
    "button = WebDriverWait(driver, 2).until(EC.element_to_be_clickable((By.CSS_SELECTOR, \"button[type='submit']\"))).click"
   ]
  },
  {
   "cell_type": "code",
   "execution_count": 7,
   "id": "eeb91da8",
   "metadata": {},
   "outputs": [
    {
     "ename": "TimeoutException",
     "evalue": "Message: \nStacktrace:\nBacktrace:\n\tOrdinal0 [0x011D78B3+2193587]\n\tOrdinal0 [0x01170681+1771137]\n\tOrdinal0 [0x010841A8+803240]\n\tOrdinal0 [0x010B24A0+992416]\n\tOrdinal0 [0x010B273B+993083]\n\tOrdinal0 [0x010DF7C2+1177538]\n\tOrdinal0 [0x010CD7F4+1103860]\n\tOrdinal0 [0x010DDAE2+1170146]\n\tOrdinal0 [0x010CD5C6+1103302]\n\tOrdinal0 [0x010A77E0+948192]\n\tOrdinal0 [0x010A86E6+952038]\n\tGetHandleVerifier [0x01480CB2+2738370]\n\tGetHandleVerifier [0x014721B8+2678216]\n\tGetHandleVerifier [0x012617AA+512954]\n\tGetHandleVerifier [0x01260856+509030]\n\tOrdinal0 [0x0117743B+1799227]\n\tOrdinal0 [0x0117BB68+1817448]\n\tOrdinal0 [0x0117BC55+1817685]\n\tOrdinal0 [0x01185230+1856048]\n\tBaseThreadInitThunk [0x76CC6739+25]\n\tRtlGetFullPathName_UEx [0x777F90AF+1215]\n\tRtlGetFullPathName_UEx [0x777F907D+1165]\n",
     "output_type": "error",
     "traceback": [
      "\u001b[1;31m---------------------------------------------------------------------------\u001b[0m",
      "\u001b[1;31mTimeoutException\u001b[0m                          Traceback (most recent call last)",
      "Input \u001b[1;32mIn [7]\u001b[0m, in \u001b[0;36m<cell line: 2>\u001b[1;34m()\u001b[0m\n\u001b[0;32m      1\u001b[0m not_now \u001b[38;5;241m=\u001b[39m WebDriverWait(driver, \u001b[38;5;241m10\u001b[39m)\u001b[38;5;241m.\u001b[39muntil(EC\u001b[38;5;241m.\u001b[39melement_to_be_clickable((By\u001b[38;5;241m.\u001b[39mXPATH, \u001b[38;5;124m'\u001b[39m\u001b[38;5;124m//button[contains(text(), \u001b[39m\u001b[38;5;124m\"\u001b[39m\u001b[38;5;124mNot Now\u001b[39m\u001b[38;5;124m\"\u001b[39m\u001b[38;5;124m)]\u001b[39m\u001b[38;5;124m'\u001b[39m)))\u001b[38;5;241m.\u001b[39mclick()\n\u001b[1;32m----> 2\u001b[0m not_now2 \u001b[38;5;241m=\u001b[39m \u001b[43mWebDriverWait\u001b[49m\u001b[43m(\u001b[49m\u001b[43mdriver\u001b[49m\u001b[43m,\u001b[49m\u001b[43m \u001b[49m\u001b[38;5;241;43m10\u001b[39;49m\u001b[43m)\u001b[49m\u001b[38;5;241;43m.\u001b[39;49m\u001b[43muntil\u001b[49m\u001b[43m(\u001b[49m\u001b[43mEC\u001b[49m\u001b[38;5;241;43m.\u001b[39;49m\u001b[43melement_to_be_clickable\u001b[49m\u001b[43m(\u001b[49m\u001b[43m(\u001b[49m\u001b[43mBy\u001b[49m\u001b[38;5;241;43m.\u001b[39;49m\u001b[43mXPATH\u001b[49m\u001b[43m,\u001b[49m\u001b[43m \u001b[49m\u001b[38;5;124;43m'\u001b[39;49m\u001b[38;5;124;43m//button[contains(text(), \u001b[39;49m\u001b[38;5;124;43m\"\u001b[39;49m\u001b[38;5;124;43mNot Now\u001b[39;49m\u001b[38;5;124;43m\"\u001b[39;49m\u001b[38;5;124;43m)]\u001b[39;49m\u001b[38;5;124;43m'\u001b[39;49m\u001b[43m)\u001b[49m\u001b[43m)\u001b[49m\u001b[43m)\u001b[49m\u001b[38;5;241m.\u001b[39mclick()\n",
      "File \u001b[1;32m~\\anaconda3\\lib\\site-packages\\selenium\\webdriver\\support\\wait.py:90\u001b[0m, in \u001b[0;36mWebDriverWait.until\u001b[1;34m(self, method, message)\u001b[0m\n\u001b[0;32m     88\u001b[0m     \u001b[38;5;28;01mif\u001b[39;00m time\u001b[38;5;241m.\u001b[39mmonotonic() \u001b[38;5;241m>\u001b[39m end_time:\n\u001b[0;32m     89\u001b[0m         \u001b[38;5;28;01mbreak\u001b[39;00m\n\u001b[1;32m---> 90\u001b[0m \u001b[38;5;28;01mraise\u001b[39;00m TimeoutException(message, screen, stacktrace)\n",
      "\u001b[1;31mTimeoutException\u001b[0m: Message: \nStacktrace:\nBacktrace:\n\tOrdinal0 [0x011D78B3+2193587]\n\tOrdinal0 [0x01170681+1771137]\n\tOrdinal0 [0x010841A8+803240]\n\tOrdinal0 [0x010B24A0+992416]\n\tOrdinal0 [0x010B273B+993083]\n\tOrdinal0 [0x010DF7C2+1177538]\n\tOrdinal0 [0x010CD7F4+1103860]\n\tOrdinal0 [0x010DDAE2+1170146]\n\tOrdinal0 [0x010CD5C6+1103302]\n\tOrdinal0 [0x010A77E0+948192]\n\tOrdinal0 [0x010A86E6+952038]\n\tGetHandleVerifier [0x01480CB2+2738370]\n\tGetHandleVerifier [0x014721B8+2678216]\n\tGetHandleVerifier [0x012617AA+512954]\n\tGetHandleVerifier [0x01260856+509030]\n\tOrdinal0 [0x0117743B+1799227]\n\tOrdinal0 [0x0117BB68+1817448]\n\tOrdinal0 [0x0117BC55+1817685]\n\tOrdinal0 [0x01185230+1856048]\n\tBaseThreadInitThunk [0x76CC6739+25]\n\tRtlGetFullPathName_UEx [0x777F90AF+1215]\n\tRtlGetFullPathName_UEx [0x777F907D+1165]\n"
     ]
    }
   ],
   "source": [
    "not_now = WebDriverWait(driver, 10).until(EC.element_to_be_clickable((By.XPATH, '//button[contains(text(), \"Not Now\")]'))).click()\n",
    "not_now2 = WebDriverWait(driver, 10).until(EC.element_to_be_clickable((By.XPATH, '//button[contains(text(), \"Not Now\")]'))).click()"
   ]
  },
  {
   "cell_type": "code",
   "execution_count": 8,
   "id": "c91f0187",
   "metadata": {},
   "outputs": [],
   "source": [
    "#membuka unggahan\n",
    "driver.get('https://www.instagram.com/p/Cdc46gopgm3/')"
   ]
  },
  {
   "cell_type": "code",
   "execution_count": 10,
   "id": "5f40360d",
   "metadata": {},
   "outputs": [
    {
     "name": "stdout",
     "output_type": "stream",
     "text": [
      "0\n"
     ]
    },
    {
     "ename": "TimeoutException",
     "evalue": "Message: \nStacktrace:\nBacktrace:\n\tOrdinal0 [0x011D78B3+2193587]\n\tOrdinal0 [0x01170681+1771137]\n\tOrdinal0 [0x010841A8+803240]\n\tOrdinal0 [0x010B24A0+992416]\n\tOrdinal0 [0x010B273B+993083]\n\tOrdinal0 [0x010DF7C2+1177538]\n\tOrdinal0 [0x010CD7F4+1103860]\n\tOrdinal0 [0x010DDAE2+1170146]\n\tOrdinal0 [0x010CD5C6+1103302]\n\tOrdinal0 [0x010A77E0+948192]\n\tOrdinal0 [0x010A86E6+952038]\n\tGetHandleVerifier [0x01480CB2+2738370]\n\tGetHandleVerifier [0x014721B8+2678216]\n\tGetHandleVerifier [0x012617AA+512954]\n\tGetHandleVerifier [0x01260856+509030]\n\tOrdinal0 [0x0117743B+1799227]\n\tOrdinal0 [0x0117BB68+1817448]\n\tOrdinal0 [0x0117BC55+1817685]\n\tOrdinal0 [0x01185230+1856048]\n\tBaseThreadInitThunk [0x76CC6739+25]\n\tRtlGetFullPathName_UEx [0x777F90AF+1215]\n\tRtlGetFullPathName_UEx [0x777F907D+1165]\n",
     "output_type": "error",
     "traceback": [
      "\u001b[1;31m---------------------------------------------------------------------------\u001b[0m",
      "\u001b[1;31mTimeoutException\u001b[0m                          Traceback (most recent call last)",
      "Input \u001b[1;32mIn [10]\u001b[0m, in \u001b[0;36m<cell line: 5>\u001b[1;34m()\u001b[0m\n\u001b[0;32m      5\u001b[0m \u001b[38;5;28;01mwhile\u001b[39;00m i \u001b[38;5;241m<\u001b[39m \u001b[38;5;241m500\u001b[39m:\n\u001b[0;32m      6\u001b[0m     \u001b[38;5;28mprint\u001b[39m(i);\n\u001b[1;32m----> 7\u001b[0m     load_more_comment\u001b[38;5;241m=\u001b[39m \u001b[43mWebDriverWait\u001b[49m\u001b[43m(\u001b[49m\u001b[43mdriver\u001b[49m\u001b[43m,\u001b[49m\u001b[38;5;241;43m20\u001b[39;49m\u001b[43m)\u001b[49m\u001b[38;5;241;43m.\u001b[39;49m\u001b[43muntil\u001b[49m\u001b[43m(\u001b[49m\u001b[43mEC\u001b[49m\u001b[38;5;241;43m.\u001b[39;49m\u001b[43melement_to_be_clickable\u001b[49m\u001b[43m(\u001b[49m\u001b[43m(\u001b[49m\u001b[43mBy\u001b[49m\u001b[38;5;241;43m.\u001b[39;49m\u001b[43mXPATH\u001b[49m\u001b[43m,\u001b[49m\u001b[38;5;124;43m'\u001b[39;49m\u001b[38;5;124;43m//*[@id=\u001b[39;49m\u001b[38;5;124;43m\"\u001b[39;49m\u001b[38;5;124;43mmount_0_0_Vq\u001b[39;49m\u001b[38;5;124;43m\"\u001b[39;49m\u001b[38;5;124;43m]/div/div/div/div[1]/div/div/div/div[1]/div[1]/section/main/div[1]/div[1]/article/div/div[2]/div/div[2]/div[1]/ul/li/div/button/div/svg\u001b[39;49m\u001b[38;5;124;43m'\u001b[39;49m\u001b[43m)\u001b[49m\u001b[43m)\u001b[49m\u001b[43m)\u001b[49m\n\u001b[0;32m      8\u001b[0m     \u001b[38;5;28;01mtry\u001b[39;00m:\n\u001b[0;32m      9\u001b[0m         load_more_comment\u001b[38;5;241m.\u001b[39mclick()\n",
      "File \u001b[1;32m~\\anaconda3\\lib\\site-packages\\selenium\\webdriver\\support\\wait.py:90\u001b[0m, in \u001b[0;36mWebDriverWait.until\u001b[1;34m(self, method, message)\u001b[0m\n\u001b[0;32m     88\u001b[0m     \u001b[38;5;28;01mif\u001b[39;00m time\u001b[38;5;241m.\u001b[39mmonotonic() \u001b[38;5;241m>\u001b[39m end_time:\n\u001b[0;32m     89\u001b[0m         \u001b[38;5;28;01mbreak\u001b[39;00m\n\u001b[1;32m---> 90\u001b[0m \u001b[38;5;28;01mraise\u001b[39;00m TimeoutException(message, screen, stacktrace)\n",
      "\u001b[1;31mTimeoutException\u001b[0m: Message: \nStacktrace:\nBacktrace:\n\tOrdinal0 [0x011D78B3+2193587]\n\tOrdinal0 [0x01170681+1771137]\n\tOrdinal0 [0x010841A8+803240]\n\tOrdinal0 [0x010B24A0+992416]\n\tOrdinal0 [0x010B273B+993083]\n\tOrdinal0 [0x010DF7C2+1177538]\n\tOrdinal0 [0x010CD7F4+1103860]\n\tOrdinal0 [0x010DDAE2+1170146]\n\tOrdinal0 [0x010CD5C6+1103302]\n\tOrdinal0 [0x010A77E0+948192]\n\tOrdinal0 [0x010A86E6+952038]\n\tGetHandleVerifier [0x01480CB2+2738370]\n\tGetHandleVerifier [0x014721B8+2678216]\n\tGetHandleVerifier [0x012617AA+512954]\n\tGetHandleVerifier [0x01260856+509030]\n\tOrdinal0 [0x0117743B+1799227]\n\tOrdinal0 [0x0117BB68+1817448]\n\tOrdinal0 [0x0117BC55+1817685]\n\tOrdinal0 [0x01185230+1856048]\n\tBaseThreadInitThunk [0x76CC6739+25]\n\tRtlGetFullPathName_UEx [0x777F90AF+1215]\n\tRtlGetFullPathName_UEx [0x777F907D+1165]\n"
     ]
    }
   ],
   "source": [
    "#membuka semua elemen html\n",
    "\n",
    "#membuka seluruh data di kolom komentar\n",
    "i = 0\n",
    "while i < 500:\n",
    "    print(i);\n",
    "    load_more_comment= WebDriverWait(driver,20).until(EC.element_to_be_clickable((By.XPATH,'//*[@id=\"mount_0_0_Vq\"]/div/div/div/div[1]/div/div/div/div[1]/div[1]/section/main/div[1]/div[1]/article/div/div[2]/div/div[2]/div[1]/ul/li/div/button/div/svg')))\n",
    "    try:\n",
    "        load_more_comment.click()\n",
    "        time.sleep(5)\n",
    "    except exceptions.StaleElementRefrenceException as e:\n",
    "        print(str(e))\n",
    "        pass\n",
    "    finally:\n",
    "        i += 1"
   ]
  },
  {
   "cell_type": "markdown",
   "id": "e5a9d898",
   "metadata": {},
   "source": [
    "SCRAPING"
   ]
  },
  {
   "cell_type": "code",
   "execution_count": 44,
   "id": "76e1dbe5",
   "metadata": {},
   "outputs": [
    {
     "ename": "AttributeError",
     "evalue": "'WebDriver' object has no attribute 'find_elements_by_class_name'",
     "output_type": "error",
     "traceback": [
      "\u001b[1;31m---------------------------------------------------------------------------\u001b[0m",
      "\u001b[1;31mAttributeError\u001b[0m                            Traceback (most recent call last)",
      "Input \u001b[1;32mIn [44]\u001b[0m, in \u001b[0;36m<cell line: 9>\u001b[1;34m()\u001b[0m\n\u001b[0;32m      6\u001b[0m user_komentar \u001b[38;5;241m=\u001b[39m []\n\u001b[0;32m      8\u001b[0m \u001b[38;5;66;03m#meminta webdriver untuk menemukan elemen kolom komentar\u001b[39;00m\n\u001b[1;32m----> 9\u001b[0m comment \u001b[38;5;241m=\u001b[39m \u001b[43mdriver\u001b[49m\u001b[38;5;241;43m.\u001b[39;49m\u001b[43mfind_elements_by_class_name\u001b[49m(\u001b[38;5;124m'\u001b[39m\u001b[38;5;124mgElp9\u001b[39m\u001b[38;5;124m'\u001b[39m)\n\u001b[0;32m     11\u001b[0m \u001b[38;5;66;03m#mengambil data username dan komentar\u001b[39;00m\n\u001b[0;32m     12\u001b[0m \u001b[38;5;28;01mfor\u001b[39;00m c \u001b[38;5;129;01min\u001b[39;00m comment:\n",
      "\u001b[1;31mAttributeError\u001b[0m: 'WebDriver' object has no attribute 'find_elements_by_class_name'"
     ]
    }
   ],
   "source": [
    "#membuka seluruh data di kolom komentar\n",
    "time.sleep(10)\n",
    "\n",
    "#menentukan indeks data\n",
    "user_nama = []\n",
    "user_komentar = []\n",
    "\n",
    "#meminta webdriver untuk menemukan elemen kolom komentar\n",
    "comment = driver.find_elements_by_class_name('gElp9')\n",
    "\n",
    "#mengambil data username dan komentar\n",
    "for c in comment:\n",
    "    container = c.find_element_by_class_name('C4VMK')\n",
    "    name = container.find_element_by_class_name('_61Ajh ').text\n",
    "    content = container.find_elements_by_tag_name('span')[1].text\n",
    "    content = content.replace('\\n', ' ').strip().rstrip()\n",
    "    user_nama.append(name)\n",
    "    user_komentar.append(content)"
   ]
  },
  {
   "cell_type": "code",
   "execution_count": null,
   "id": "4a86a8e1",
   "metadata": {},
   "outputs": [],
   "source": [
    "#memasukkan data ke file csv\n",
    "comments_df = pd.DataFrame({\"username\": user_nama, \"comment\": user_komentar})\n",
    "comments_df.to_csv(\"data_komentar.csv\", index=False)"
   ]
  },
  {
   "cell_type": "code",
   "execution_count": null,
   "id": "fdc3f60d",
   "metadata": {},
   "outputs": [],
   "source": [
    "<svg aria-label=\"Load more comments\" class=\"_ab6-\" color=\"#262626\" fill=\"#262626\" height=\"24\" role=\"img\" viewBox=\"0 0 24 24\" width=\"24\"><circle cx=\"12.001\" cy=\"12.005\" fill=\"none\" r=\"10.5\" stroke=\"currentColor\" stroke-linecap=\"round\" stroke-linejoin=\"round\" stroke-width=\"2\"></circle><line fill=\"none\" stroke=\"currentColor\" stroke-linecap=\"round\" stroke-linejoin=\"round\" stroke-width=\"2\" x1=\"7.001\" x2=\"17.001\" y1=\"12.005\" y2=\"12.005\"></line><line fill=\"none\" stroke=\"currentColor\" stroke-linecap=\"round\" stroke-linejoin=\"round\" stroke-width=\"2\" x1=\"12.001\" x2=\"12.001\" y1=\"7.005\" y2=\"17.005\"></line></svg>\n",
    "\n",
    "//*[@id=\"mount_0_0_Vq\"]/div/div/div/div[1]/div/div/div/div[1]/div[1]/section/main/div[1]/div[1]/article/div/div[2]/div/div[2]/div[1]/ul/li/div/button/div/svg\n",
    "\n",
    "/html/body/div[1]/div/div/div/div[1]/div/div/div/div[1]/div[1]/section/main/div[1]/div[1]/article/div/div[2]/div/div[2]/div[1]/ul/li/div/button/div/svg"
   ]
  }
 ],
 "metadata": {
  "kernelspec": {
   "display_name": "Python 3 (ipykernel)",
   "language": "python",
   "name": "python3"
  },
  "language_info": {
   "codemirror_mode": {
    "name": "ipython",
    "version": 3
   },
   "file_extension": ".py",
   "mimetype": "text/x-python",
   "name": "python",
   "nbconvert_exporter": "python",
   "pygments_lexer": "ipython3",
   "version": "3.9.12"
  }
 },
 "nbformat": 4,
 "nbformat_minor": 5
}
