{
 "cells": [
  {
   "cell_type": "code",
   "execution_count": 1,
   "id": "f80fccca",
   "metadata": {},
   "outputs": [],
   "source": [
    "#import library\n",
    "import pandas as pd #untuk mengimport data \n",
    "import re #untuk mengimport regex atau reguler expression\n",
    "\n",
    "import nltk #untuk analisis data\n",
    "from nltk.tokenize import word_tokenize #untuk tokenizing menggunakan nltk\n",
    "from nltk.corpus import stopwords #untuk stopword menggunakan nltk\n",
    "\n",
    "#mengubah teks menjadi matriks dan transformasi ke tf-idf\n",
    "from sklearn.feature_extraction.text import CountVectorizer, TfidfVectorizer\n",
    "\n",
    "#pemanggilan fungsi sentimen analisis\n",
    "from nltk.sentiment.vader import SentimentIntensityAnalyzer\n",
    "# nltk.download(\"vader_lexicon\")\n",
    "\n",
    "#untuk mengiport stemmerfactory kelas\n",
    "from Sastrawi.Stemmer.StemmerFactory import StemmerFactory"
   ]
  },
  {
   "cell_type": "markdown",
   "id": "b53ed845",
   "metadata": {},
   "source": [
    "# Preprocessing"
   ]
  },
  {
   "cell_type": "code",
   "execution_count": 2,
   "id": "1e297ead",
   "metadata": {},
   "outputs": [],
   "source": [
    "# untuk mengimport / membaca data \n",
    "data = pd.read_csv('datalabelled-coba.csv', header=None)"
   ]
  },
  {
   "cell_type": "code",
   "execution_count": 3,
   "id": "b25507a8",
   "metadata": {
    "scrolled": true
   },
   "outputs": [
    {
     "data": {
      "text/html": [
       "<div>\n",
       "<style scoped>\n",
       "    .dataframe tbody tr th:only-of-type {\n",
       "        vertical-align: middle;\n",
       "    }\n",
       "\n",
       "    .dataframe tbody tr th {\n",
       "        vertical-align: top;\n",
       "    }\n",
       "\n",
       "    .dataframe thead th {\n",
       "        text-align: right;\n",
       "    }\n",
       "</style>\n",
       "<table border=\"1\" class=\"dataframe\">\n",
       "  <thead>\n",
       "    <tr style=\"text-align: right;\">\n",
       "      <th></th>\n",
       "      <th>0</th>\n",
       "      <th>1</th>\n",
       "    </tr>\n",
       "  </thead>\n",
       "  <tbody>\n",
       "    <tr>\n",
       "      <th>0</th>\n",
       "      <td>irliewijanarko</td>\n",
       "      <td>setiap ngeliat ikoy2an gini , bawaannya mau is...</td>\n",
       "    </tr>\n",
       "    <tr>\n",
       "      <th>1</th>\n",
       "      <td>agnezputrii</td>\n",
       "      <td>butuh 1 jt bang,teteh eca buat beli mixer ma l...</td>\n",
       "    </tr>\n",
       "    <tr>\n",
       "      <th>2</th>\n",
       "      <td>march_3li4</td>\n",
       "      <td>pengen beli make up set buat belajar ngevlog j...</td>\n",
       "    </tr>\n",
       "    <tr>\n",
       "      <th>3</th>\n",
       "      <td>sofia.marzuki</td>\n",
       "      <td>kalau saya emang benar-benar lagi butuh min se...</td>\n",
       "    </tr>\n",
       "    <tr>\n",
       "      <th>4</th>\n",
       "      <td>retnoheny</td>\n",
       "      <td>curhat dikit ya, mimin. di dekat tempat kerjak...</td>\n",
       "    </tr>\n",
       "    <tr>\n",
       "      <th>...</th>\n",
       "      <td>...</td>\n",
       "      <td>...</td>\n",
       "    </tr>\n",
       "    <tr>\n",
       "      <th>574</th>\n",
       "      <td>ridzki_ichent</td>\n",
       "      <td>dari jaman nya @ikoy2an bareng armuh sampe sek...</td>\n",
       "    </tr>\n",
       "    <tr>\n",
       "      <th>575</th>\n",
       "      <td>dyahhdell_</td>\n",
       "      <td>pingin rayain ultah anak yg ke 5th tgl 25 ini ...</td>\n",
       "    </tr>\n",
       "    <tr>\n",
       "      <th>576</th>\n",
       "      <td>mannequeenbe</td>\n",
       "      <td>aku cuma butuh beli memory external hp soalnya...</td>\n",
       "    </tr>\n",
       "    <tr>\n",
       "      <th>577</th>\n",
       "      <td>niakartinn</td>\n",
       "      <td>belum pernah bales jasa orangtua nih @ikoy2an ...</td>\n",
       "    </tr>\n",
       "    <tr>\n",
       "      <th>578</th>\n",
       "      <td>kusnadilidya</td>\n",
       "      <td>mau dong beliin kasur buat anak.kayanya happy ...</td>\n",
       "    </tr>\n",
       "  </tbody>\n",
       "</table>\n",
       "<p>579 rows × 2 columns</p>\n",
       "</div>"
      ],
      "text/plain": [
       "                  0                                                  1\n",
       "0    irliewijanarko  setiap ngeliat ikoy2an gini , bawaannya mau is...\n",
       "1       agnezputrii  butuh 1 jt bang,teteh eca buat beli mixer ma l...\n",
       "2        march_3li4  pengen beli make up set buat belajar ngevlog j...\n",
       "3     sofia.marzuki  kalau saya emang benar-benar lagi butuh min se...\n",
       "4         retnoheny  curhat dikit ya, mimin. di dekat tempat kerjak...\n",
       "..              ...                                                ...\n",
       "574   ridzki_ichent  dari jaman nya @ikoy2an bareng armuh sampe sek...\n",
       "575      dyahhdell_  pingin rayain ultah anak yg ke 5th tgl 25 ini ...\n",
       "576    mannequeenbe  aku cuma butuh beli memory external hp soalnya...\n",
       "577      niakartinn  belum pernah bales jasa orangtua nih @ikoy2an ...\n",
       "578    kusnadilidya  mau dong beliin kasur buat anak.kayanya happy ...\n",
       "\n",
       "[579 rows x 2 columns]"
      ]
     },
     "execution_count": 3,
     "metadata": {},
     "output_type": "execute_result"
    }
   ],
   "source": [
    "data # untuk membaca data"
   ]
  },
  {
   "cell_type": "code",
   "execution_count": 4,
   "id": "7613c03e",
   "metadata": {
    "scrolled": false
   },
   "outputs": [
    {
     "data": {
      "text/plain": [
       "0      setiap ngeliat ikoy2an gini , bawaannya mau is...\n",
       "1      butuh 1 jt bang,teteh eca buat beli mixer ma l...\n",
       "2      pengen beli make up set buat belajar ngevlog j...\n",
       "3      kalau saya emang benar-benar lagi butuh min se...\n",
       "4      curhat dikit ya, mimin. di dekat tempat kerjak...\n",
       "                             ...                        \n",
       "574    dari jaman nya @ikoy2an bareng armuh sampe sek...\n",
       "575    pingin rayain ultah anak yg ke 5th tgl 25 ini ...\n",
       "576    aku cuma butuh beli memory external hp soalnya...\n",
       "577    belum pernah bales jasa orangtua nih @ikoy2an ...\n",
       "578    mau dong beliin kasur buat anak.kayanya happy ...\n",
       "Name: 1, Length: 579, dtype: object"
      ]
     },
     "execution_count": 4,
     "metadata": {},
     "output_type": "execute_result"
    }
   ],
   "source": [
    "# untuk membaca data yang beratribut 1 dan menghapus atribut lain\n",
    "data[1].dropna()"
   ]
  },
  {
   "cell_type": "code",
   "execution_count": 5,
   "id": "6ce47670",
   "metadata": {},
   "outputs": [],
   "source": [
    "# mengubah string pada data atribut 1 menjadi huruf kecil\n",
    "data[1] = data[1].str.lower()"
   ]
  },
  {
   "cell_type": "code",
   "execution_count": 6,
   "id": "3cf46360",
   "metadata": {},
   "outputs": [],
   "source": [
    "def hapusurl(text): #proses menghapus url pada teks\n",
    "    return re.sub(r'https\\S+', '', text) #Menggantikan satu atau banyak match dengan sebuah string\n",
    "\n",
    "def removeusername(text): #proses menghapus username\n",
    "    pattern = r'[@]\\w+' # r=menghindari karakter escape dengan @\n",
    "    text = re.sub(pattern, '', text) #mengubah text dengan regex\n",
    "    return text #memanggil fungsi teks\n",
    "\n",
    "def removehastag(text):#proses menghapus hastag\n",
    "    pattern = r'[#]\\w+' # r=menghindari karakter escape dengan #\n",
    "    text = re.sub(pattern, '', text) #mengubah text dengan regex\n",
    "    return text #memanggil fungsi teks\n",
    "\n",
    "def hapuskurung(text): #proses menghapus kurung\n",
    "    pattern = r'[^a-zA-Z0-9\\s]' # r=menghindari karakter escape dengan simbol\n",
    "    text = re.sub(pattern, '', text) #mengubah text dengan regex\n",
    "    return text #memanggil fungsi teks\n",
    "\n",
    "def clean_data(text): #proses membersihkan data\n",
    "    text = hapusurl(text) #memanggil text yang telah dihapus url\n",
    "    text = removeusername(text) #memanggil text yang telah dihapus username\n",
    "    text = removehastag(text) #memanggil teks yang telah dihapus hastag\n",
    "    text = hapuskurung(text) #memanggil teks yang telah dihapus kurung\n",
    "    return text #memanggil fungsi teks\n",
    "\n",
    "# =============================\n",
    "\n",
    "def tokenize(text): #proses tokenizing\n",
    "    text = word_tokenize(text) #memanggil teks untuk di tokenizing\n",
    "    return text #memanggil fungsi teks\n",
    "\n",
    "def stopword(text): #proses stopword\n",
    "    #mengembalikan kata yang ditext yang tidak di stopword\n",
    "    return [word for word in text if word not in list_stopwords]\n",
    "\n",
    "def clean_data2(text): #proses membersihkan data 2\n",
    "    text = tokenize(text) #memanggil teks yang sudah di tokenizing\n",
    "    text = stopword(text) #memanggil teks yang sudah di stopword\n",
    "    return text #memanggil fungsi teks\n",
    "\n",
    "# ================================\n",
    "\n",
    "# def stemming(text):\n",
    "#     factory = StemmerFactory()\n",
    "#     stemmer = factory.create_stemmer()\n",
    "#     return [stemmer.stem(word) for word in text]\n",
    "\n",
    "# def clean_data3(text):\n",
    "#     text = stemming(text)\n",
    "#     return text\n",
    "\n",
    "# data['clean3']= data['clean2'].apply(clean_data3)\n",
    "\n",
    "# =========================\n",
    "def clean_data_testing(text): #proses membersihkan data testing\n",
    "    text = hapusurl(text) #memanggil text yang telah dihapus url\n",
    "    text = removeusername(text) #memanggil text yang telah dihapus username\n",
    "    text = removehastag(text) #memanggil teks yang telah dihapus hastag\n",
    "    text = hapuskurung(text) #memanggil teks yang telah dihapus kurung\n",
    "    text = stopword(text) #memanggil teks yang telah di stopword\n",
    "    return text #memanggil fungsi teks"
   ]
  },
  {
   "cell_type": "code",
   "execution_count": 7,
   "id": "3c03a419",
   "metadata": {},
   "outputs": [],
   "source": [
    "#memanggil data clean 1 yang telah di cleaning pertama\n",
    "data['clean1']= data[1].apply(clean_data) "
   ]
  },
  {
   "cell_type": "code",
   "execution_count": 8,
   "id": "1e5595d3",
   "metadata": {},
   "outputs": [
    {
     "data": {
      "text/plain": [
       "0      setiap ngeliat ikoy2an gini  bawaannya mau ise...\n",
       "1      butuh 1 jt bangteteh eca buat beli mixer ma lo...\n",
       "2      pengen beli make up set buat belajar ngevlog j...\n",
       "3      kalau saya emang benarbenar lagi butuh min sel...\n",
       "4      curhat dikit ya mimin di dekat tempat kerjaku ...\n",
       "                             ...                        \n",
       "574    dari jaman nya  bareng armuh sampe sekarang ga...\n",
       "575    pingin rayain ultah anak yg ke 5th tgl 25 ini ...\n",
       "576    aku cuma butuh beli memory external hp soalnya...\n",
       "577    belum pernah bales jasa orangtua nih  kalo bol...\n",
       "578    mau dong beliin kasur buat anakkayanya happy d...\n",
       "Name: clean1, Length: 579, dtype: object"
      ]
     },
     "execution_count": 8,
     "metadata": {},
     "output_type": "execute_result"
    }
   ],
   "source": [
    "#memanggil data \n",
    "data['clean1']"
   ]
  },
  {
   "cell_type": "code",
   "execution_count": 9,
   "id": "7c7b7f35",
   "metadata": {},
   "outputs": [],
   "source": [
    "#membuat list stopword dari kata bahasa indonesia\n",
    "list_stopwords = (set(stopwords.words('indonesian')), \"yg\", \"dg\", \"rt\", \"dgn\", \"ny\", \"d\", 'klo','kalo', 'amp',\n",
    "                  'biar', 'bikin', 'bilang','gak', 'ga', 'krn', 'nya', 'nih', 'sih','si', 'tau', 'tdk', 'tuh',\n",
    "                  'utk', 'ya', 'jd', 'jgn', 'sdh', 'aja', 'n', 't', 'nyg', 'hehe', 'pen', 'u', 'nan', 'loh',\n",
    "                  'rt', '&amp', 'yah', 'an', 'habis2', 'w', 'tbtb', 'ga', 'dr', 'a', 'utk', 'i', 'krn',\n",
    "                  'lagisamasama2', 'lg', 'krn', 'di', 'yang', 'blm', 'saya', 'anu', 'saat', 'tidak', 'dlm',\n",
    "                  'dan', 'hanya', 'ada', 'kami')"
   ]
  },
  {
   "cell_type": "code",
   "execution_count": 10,
   "id": "a46a3fed",
   "metadata": {},
   "outputs": [],
   "source": [
    "#memanggil data clean 2 yang telah di cleaning kedua\n",
    "data['clean2']= data['clean1'].apply(clean_data2)"
   ]
  },
  {
   "cell_type": "code",
   "execution_count": 11,
   "id": "bea4ea19",
   "metadata": {},
   "outputs": [
    {
     "data": {
      "text/plain": [
       "0      [setiap, ngeliat, ikoy2an, gini, bawaannya, ma...\n",
       "1      [butuh, 1, jt, bangteteh, eca, buat, beli, mix...\n",
       "2      [pengen, beli, make, up, set, buat, belajar, n...\n",
       "3      [kalau, emang, benarbenar, lagi, butuh, min, s...\n",
       "4      [curhat, dikit, mimin, dekat, tempat, kerjaku,...\n",
       "                             ...                        \n",
       "574    [dari, jaman, bareng, armuh, sampe, sekarang, ...\n",
       "575    [pingin, rayain, ultah, anak, ke, 5th, tgl, 25...\n",
       "576    [aku, cuma, butuh, beli, memory, external, hp,...\n",
       "577    [belum, pernah, bales, jasa, orangtua, boleh, ...\n",
       "578    [mau, dong, beliin, kasur, buat, anakkayanya, ...\n",
       "Name: clean2, Length: 579, dtype: object"
      ]
     },
     "execution_count": 11,
     "metadata": {},
     "output_type": "execute_result"
    }
   ],
   "source": [
    "#memanggil data \n",
    "data['clean2']"
   ]
  },
  {
   "cell_type": "code",
   "execution_count": 12,
   "id": "bb915f1d",
   "metadata": {},
   "outputs": [],
   "source": [
    "#memanggil fungsi sentimenanalyzer\n",
    "sentiments = SentimentIntensityAnalyzer()\n",
    "#untuk data positif\n",
    "data[\"Positive\"] = [sentiments.polarity_scores(i)[\"pos\"] for i in data[1]]\n",
    "#untuk data negatif\n",
    "data[\"Negative\"] = [sentiments.polarity_scores(i)[\"neg\"] for i in data[1]]\n",
    "#untuk data netral\n",
    "data[\"Neutral\"] = [sentiments.polarity_scores(i)[\"neu\"] for i in data[1]]\n",
    "#untuk data perhitungan\n",
    "data['Compound'] = [sentiments.polarity_scores(i)[\"compound\"] for i in data[1]]"
   ]
  },
  {
   "cell_type": "code",
   "execution_count": 13,
   "id": "b90fb59f",
   "metadata": {},
   "outputs": [],
   "source": [
    "score = data[\"Compound\"].values #menghitung data \n",
    "sentiment = [] #sentimen\n",
    "for i in score: #perulangan menggunakan variabel i\n",
    "    if i >= 0.05 : #jika i lebih dari 0,05 maka\n",
    "        sentiment.append('Positive') #sentimen bersifat positif\n",
    "    elif i <= -0.05 : #jika i kurang dari -0,5 maka\n",
    "        sentiment.append('Negative') #sentimen bersifat negatif\n",
    "    else: #selain itu\n",
    "        sentiment.append('Neutral') #sentimen bersifat netral\n",
    "data[\"Sentiment3Class\"] = sentiment #data variabel sentimen3 "
   ]
  },
  {
   "cell_type": "code",
   "execution_count": null,
   "id": "e40330b1",
   "metadata": {},
   "outputs": [],
   "source": [
    "#data['Sentiment3Class'].value_counts()"
   ]
  },
  {
   "cell_type": "code",
   "execution_count": 16,
   "id": "81c4992b",
   "metadata": {},
   "outputs": [
    {
     "data": {
      "text/html": [
       "<div>\n",
       "<style scoped>\n",
       "    .dataframe tbody tr th:only-of-type {\n",
       "        vertical-align: middle;\n",
       "    }\n",
       "\n",
       "    .dataframe tbody tr th {\n",
       "        vertical-align: top;\n",
       "    }\n",
       "\n",
       "    .dataframe thead th {\n",
       "        text-align: right;\n",
       "    }\n",
       "</style>\n",
       "<table border=\"1\" class=\"dataframe\">\n",
       "  <thead>\n",
       "    <tr style=\"text-align: right;\">\n",
       "      <th></th>\n",
       "      <th>0</th>\n",
       "      <th>1</th>\n",
       "      <th>clean1</th>\n",
       "      <th>clean2</th>\n",
       "      <th>Positive</th>\n",
       "      <th>Negative</th>\n",
       "      <th>Neutral</th>\n",
       "      <th>Compound</th>\n",
       "      <th>Sentiment3Class</th>\n",
       "    </tr>\n",
       "  </thead>\n",
       "  <tbody>\n",
       "    <tr>\n",
       "      <th>0</th>\n",
       "      <td>irliewijanarko</td>\n",
       "      <td>setiap ngeliat ikoy2an gini , bawaannya mau is...</td>\n",
       "      <td>setiap ngeliat ikoy2an gini  bawaannya mau ise...</td>\n",
       "      <td>[setiap, ngeliat, ikoy2an, gini, bawaannya, ma...</td>\n",
       "      <td>0.000</td>\n",
       "      <td>0.087</td>\n",
       "      <td>0.913</td>\n",
       "      <td>-0.5972</td>\n",
       "      <td>Negative</td>\n",
       "    </tr>\n",
       "    <tr>\n",
       "      <th>1</th>\n",
       "      <td>agnezputrii</td>\n",
       "      <td>butuh 1 jt bang,teteh eca buat beli mixer ma l...</td>\n",
       "      <td>butuh 1 jt bangteteh eca buat beli mixer ma lo...</td>\n",
       "      <td>[butuh, 1, jt, bangteteh, eca, buat, beli, mix...</td>\n",
       "      <td>0.119</td>\n",
       "      <td>0.000</td>\n",
       "      <td>0.881</td>\n",
       "      <td>0.2263</td>\n",
       "      <td>Positive</td>\n",
       "    </tr>\n",
       "    <tr>\n",
       "      <th>2</th>\n",
       "      <td>march_3li4</td>\n",
       "      <td>pengen beli make up set buat belajar ngevlog j...</td>\n",
       "      <td>pengen beli make up set buat belajar ngevlog j...</td>\n",
       "      <td>[pengen, beli, make, up, set, buat, belajar, n...</td>\n",
       "      <td>0.192</td>\n",
       "      <td>0.000</td>\n",
       "      <td>0.808</td>\n",
       "      <td>0.5859</td>\n",
       "      <td>Positive</td>\n",
       "    </tr>\n",
       "    <tr>\n",
       "      <th>3</th>\n",
       "      <td>sofia.marzuki</td>\n",
       "      <td>kalau saya emang benar-benar lagi butuh min se...</td>\n",
       "      <td>kalau saya emang benarbenar lagi butuh min sel...</td>\n",
       "      <td>[kalau, emang, benarbenar, lagi, butuh, min, s...</td>\n",
       "      <td>0.000</td>\n",
       "      <td>0.037</td>\n",
       "      <td>0.963</td>\n",
       "      <td>-0.5106</td>\n",
       "      <td>Negative</td>\n",
       "    </tr>\n",
       "    <tr>\n",
       "      <th>4</th>\n",
       "      <td>retnoheny</td>\n",
       "      <td>curhat dikit ya, mimin. di dekat tempat kerjak...</td>\n",
       "      <td>curhat dikit ya mimin di dekat tempat kerjaku ...</td>\n",
       "      <td>[curhat, dikit, mimin, dekat, tempat, kerjaku,...</td>\n",
       "      <td>0.023</td>\n",
       "      <td>0.000</td>\n",
       "      <td>0.977</td>\n",
       "      <td>0.4215</td>\n",
       "      <td>Positive</td>\n",
       "    </tr>\n",
       "  </tbody>\n",
       "</table>\n",
       "</div>"
      ],
      "text/plain": [
       "                0                                                  1  \\\n",
       "0  irliewijanarko  setiap ngeliat ikoy2an gini , bawaannya mau is...   \n",
       "1     agnezputrii  butuh 1 jt bang,teteh eca buat beli mixer ma l...   \n",
       "2      march_3li4  pengen beli make up set buat belajar ngevlog j...   \n",
       "3   sofia.marzuki  kalau saya emang benar-benar lagi butuh min se...   \n",
       "4       retnoheny  curhat dikit ya, mimin. di dekat tempat kerjak...   \n",
       "\n",
       "                                              clean1  \\\n",
       "0  setiap ngeliat ikoy2an gini  bawaannya mau ise...   \n",
       "1  butuh 1 jt bangteteh eca buat beli mixer ma lo...   \n",
       "2  pengen beli make up set buat belajar ngevlog j...   \n",
       "3  kalau saya emang benarbenar lagi butuh min sel...   \n",
       "4  curhat dikit ya mimin di dekat tempat kerjaku ...   \n",
       "\n",
       "                                              clean2  Positive  Negative  \\\n",
       "0  [setiap, ngeliat, ikoy2an, gini, bawaannya, ma...     0.000     0.087   \n",
       "1  [butuh, 1, jt, bangteteh, eca, buat, beli, mix...     0.119     0.000   \n",
       "2  [pengen, beli, make, up, set, buat, belajar, n...     0.192     0.000   \n",
       "3  [kalau, emang, benarbenar, lagi, butuh, min, s...     0.000     0.037   \n",
       "4  [curhat, dikit, mimin, dekat, tempat, kerjaku,...     0.023     0.000   \n",
       "\n",
       "   Neutral  Compound Sentiment3Class  \n",
       "0    0.913   -0.5972        Negative  \n",
       "1    0.881    0.2263        Positive  \n",
       "2    0.808    0.5859        Positive  \n",
       "3    0.963   -0.5106        Negative  \n",
       "4    0.977    0.4215        Positive  "
      ]
     },
     "execution_count": 16,
     "metadata": {},
     "output_type": "execute_result"
    }
   ],
   "source": [
    "#menampilkan data yang ada diatas\n",
    "data.head()"
   ]
  },
  {
   "cell_type": "code",
   "execution_count": 17,
   "id": "8e5a66cc",
   "metadata": {},
   "outputs": [],
   "source": [
    "tmpDF = []\n",
    "for i, d in data.iterrows(): #mengulang data dengan mengembalikan\n",
    "    if d['Sentiment3Class'] == 'Neutral': #jika d pada sentimen3class sama dengan neutral\n",
    "        continue\n",
    "    tmpDF.append(d) #menambahkan data ke akhir daftar tmpdf"
   ]
  },
  {
   "cell_type": "code",
   "execution_count": 18,
   "id": "f8d6f769",
   "metadata": {},
   "outputs": [],
   "source": [
    "#membuat data_baru menggunakan data frame tmpdf\n",
    "data_baru = pd.DataFrame(tmpDF)"
   ]
  },
  {
   "cell_type": "code",
   "execution_count": 23,
   "id": "edee6c52",
   "metadata": {},
   "outputs": [],
   "source": [
    "#data_baru.to_csv('datalabelled-coba.csv', mode='a', encoding='utf-8', index=False, header=True)"
   ]
  },
  {
   "cell_type": "code",
   "execution_count": 20,
   "id": "dc94245a",
   "metadata": {},
   "outputs": [
    {
     "data": {
      "text/html": [
       "<div>\n",
       "<style scoped>\n",
       "    .dataframe tbody tr th:only-of-type {\n",
       "        vertical-align: middle;\n",
       "    }\n",
       "\n",
       "    .dataframe tbody tr th {\n",
       "        vertical-align: top;\n",
       "    }\n",
       "\n",
       "    .dataframe thead th {\n",
       "        text-align: right;\n",
       "    }\n",
       "</style>\n",
       "<table border=\"1\" class=\"dataframe\">\n",
       "  <thead>\n",
       "    <tr style=\"text-align: right;\">\n",
       "      <th></th>\n",
       "      <th>0</th>\n",
       "      <th>1</th>\n",
       "      <th>clean1</th>\n",
       "      <th>clean2</th>\n",
       "      <th>Positive</th>\n",
       "      <th>Negative</th>\n",
       "      <th>Neutral</th>\n",
       "      <th>Compound</th>\n",
       "      <th>Sentiment3Class</th>\n",
       "    </tr>\n",
       "  </thead>\n",
       "  <tbody>\n",
       "    <tr>\n",
       "      <th>0</th>\n",
       "      <td>irliewijanarko</td>\n",
       "      <td>setiap ngeliat ikoy2an gini , bawaannya mau is...</td>\n",
       "      <td>setiap ngeliat ikoy2an gini  bawaannya mau ise...</td>\n",
       "      <td>[setiap, ngeliat, ikoy2an, gini, bawaannya, ma...</td>\n",
       "      <td>0.000</td>\n",
       "      <td>0.087</td>\n",
       "      <td>0.913</td>\n",
       "      <td>-0.5972</td>\n",
       "      <td>Negative</td>\n",
       "    </tr>\n",
       "    <tr>\n",
       "      <th>1</th>\n",
       "      <td>agnezputrii</td>\n",
       "      <td>butuh 1 jt bang,teteh eca buat beli mixer ma l...</td>\n",
       "      <td>butuh 1 jt bangteteh eca buat beli mixer ma lo...</td>\n",
       "      <td>[butuh, 1, jt, bangteteh, eca, buat, beli, mix...</td>\n",
       "      <td>0.119</td>\n",
       "      <td>0.000</td>\n",
       "      <td>0.881</td>\n",
       "      <td>0.2263</td>\n",
       "      <td>Positive</td>\n",
       "    </tr>\n",
       "    <tr>\n",
       "      <th>2</th>\n",
       "      <td>march_3li4</td>\n",
       "      <td>pengen beli make up set buat belajar ngevlog j...</td>\n",
       "      <td>pengen beli make up set buat belajar ngevlog j...</td>\n",
       "      <td>[pengen, beli, make, up, set, buat, belajar, n...</td>\n",
       "      <td>0.192</td>\n",
       "      <td>0.000</td>\n",
       "      <td>0.808</td>\n",
       "      <td>0.5859</td>\n",
       "      <td>Positive</td>\n",
       "    </tr>\n",
       "    <tr>\n",
       "      <th>3</th>\n",
       "      <td>sofia.marzuki</td>\n",
       "      <td>kalau saya emang benar-benar lagi butuh min se...</td>\n",
       "      <td>kalau saya emang benarbenar lagi butuh min sel...</td>\n",
       "      <td>[kalau, emang, benarbenar, lagi, butuh, min, s...</td>\n",
       "      <td>0.000</td>\n",
       "      <td>0.037</td>\n",
       "      <td>0.963</td>\n",
       "      <td>-0.5106</td>\n",
       "      <td>Negative</td>\n",
       "    </tr>\n",
       "    <tr>\n",
       "      <th>4</th>\n",
       "      <td>retnoheny</td>\n",
       "      <td>curhat dikit ya, mimin. di dekat tempat kerjak...</td>\n",
       "      <td>curhat dikit ya mimin di dekat tempat kerjaku ...</td>\n",
       "      <td>[curhat, dikit, mimin, dekat, tempat, kerjaku,...</td>\n",
       "      <td>0.023</td>\n",
       "      <td>0.000</td>\n",
       "      <td>0.977</td>\n",
       "      <td>0.4215</td>\n",
       "      <td>Positive</td>\n",
       "    </tr>\n",
       "    <tr>\n",
       "      <th>...</th>\n",
       "      <td>...</td>\n",
       "      <td>...</td>\n",
       "      <td>...</td>\n",
       "      <td>...</td>\n",
       "      <td>...</td>\n",
       "      <td>...</td>\n",
       "      <td>...</td>\n",
       "      <td>...</td>\n",
       "      <td>...</td>\n",
       "    </tr>\n",
       "    <tr>\n",
       "      <th>574</th>\n",
       "      <td>ridzki_ichent</td>\n",
       "      <td>dari jaman nya @ikoy2an bareng armuh sampe sek...</td>\n",
       "      <td>dari jaman nya  bareng armuh sampe sekarang ga...</td>\n",
       "      <td>[dari, jaman, bareng, armuh, sampe, sekarang, ...</td>\n",
       "      <td>0.000</td>\n",
       "      <td>0.159</td>\n",
       "      <td>0.841</td>\n",
       "      <td>-0.5574</td>\n",
       "      <td>Negative</td>\n",
       "    </tr>\n",
       "    <tr>\n",
       "      <th>575</th>\n",
       "      <td>dyahhdell_</td>\n",
       "      <td>pingin rayain ultah anak yg ke 5th tgl 25 ini ...</td>\n",
       "      <td>pingin rayain ultah anak yg ke 5th tgl 25 ini ...</td>\n",
       "      <td>[pingin, rayain, ultah, anak, ke, 5th, tgl, 25...</td>\n",
       "      <td>0.179</td>\n",
       "      <td>0.000</td>\n",
       "      <td>0.821</td>\n",
       "      <td>0.5719</td>\n",
       "      <td>Positive</td>\n",
       "    </tr>\n",
       "    <tr>\n",
       "      <th>576</th>\n",
       "      <td>mannequeenbe</td>\n",
       "      <td>aku cuma butuh beli memory external hp soalnya...</td>\n",
       "      <td>aku cuma butuh beli memory external hp soalnya...</td>\n",
       "      <td>[aku, cuma, butuh, beli, memory, external, hp,...</td>\n",
       "      <td>0.196</td>\n",
       "      <td>0.000</td>\n",
       "      <td>0.804</td>\n",
       "      <td>0.5994</td>\n",
       "      <td>Positive</td>\n",
       "    </tr>\n",
       "    <tr>\n",
       "      <th>577</th>\n",
       "      <td>niakartinn</td>\n",
       "      <td>belum pernah bales jasa orangtua nih @ikoy2an ...</td>\n",
       "      <td>belum pernah bales jasa orangtua nih  kalo bol...</td>\n",
       "      <td>[belum, pernah, bales, jasa, orangtua, boleh, ...</td>\n",
       "      <td>0.091</td>\n",
       "      <td>0.000</td>\n",
       "      <td>0.909</td>\n",
       "      <td>0.4588</td>\n",
       "      <td>Positive</td>\n",
       "    </tr>\n",
       "    <tr>\n",
       "      <th>578</th>\n",
       "      <td>kusnadilidya</td>\n",
       "      <td>mau dong beliin kasur buat anak.kayanya happy ...</td>\n",
       "      <td>mau dong beliin kasur buat anakkayanya happy d...</td>\n",
       "      <td>[mau, dong, beliin, kasur, buat, anakkayanya, ...</td>\n",
       "      <td>0.252</td>\n",
       "      <td>0.000</td>\n",
       "      <td>0.748</td>\n",
       "      <td>0.5719</td>\n",
       "      <td>Positive</td>\n",
       "    </tr>\n",
       "  </tbody>\n",
       "</table>\n",
       "<p>579 rows × 9 columns</p>\n",
       "</div>"
      ],
      "text/plain": [
       "                  0                                                  1  \\\n",
       "0    irliewijanarko  setiap ngeliat ikoy2an gini , bawaannya mau is...   \n",
       "1       agnezputrii  butuh 1 jt bang,teteh eca buat beli mixer ma l...   \n",
       "2        march_3li4  pengen beli make up set buat belajar ngevlog j...   \n",
       "3     sofia.marzuki  kalau saya emang benar-benar lagi butuh min se...   \n",
       "4         retnoheny  curhat dikit ya, mimin. di dekat tempat kerjak...   \n",
       "..              ...                                                ...   \n",
       "574   ridzki_ichent  dari jaman nya @ikoy2an bareng armuh sampe sek...   \n",
       "575      dyahhdell_  pingin rayain ultah anak yg ke 5th tgl 25 ini ...   \n",
       "576    mannequeenbe  aku cuma butuh beli memory external hp soalnya...   \n",
       "577      niakartinn  belum pernah bales jasa orangtua nih @ikoy2an ...   \n",
       "578    kusnadilidya  mau dong beliin kasur buat anak.kayanya happy ...   \n",
       "\n",
       "                                                clean1  \\\n",
       "0    setiap ngeliat ikoy2an gini  bawaannya mau ise...   \n",
       "1    butuh 1 jt bangteteh eca buat beli mixer ma lo...   \n",
       "2    pengen beli make up set buat belajar ngevlog j...   \n",
       "3    kalau saya emang benarbenar lagi butuh min sel...   \n",
       "4    curhat dikit ya mimin di dekat tempat kerjaku ...   \n",
       "..                                                 ...   \n",
       "574  dari jaman nya  bareng armuh sampe sekarang ga...   \n",
       "575  pingin rayain ultah anak yg ke 5th tgl 25 ini ...   \n",
       "576  aku cuma butuh beli memory external hp soalnya...   \n",
       "577  belum pernah bales jasa orangtua nih  kalo bol...   \n",
       "578  mau dong beliin kasur buat anakkayanya happy d...   \n",
       "\n",
       "                                                clean2  Positive  Negative  \\\n",
       "0    [setiap, ngeliat, ikoy2an, gini, bawaannya, ma...     0.000     0.087   \n",
       "1    [butuh, 1, jt, bangteteh, eca, buat, beli, mix...     0.119     0.000   \n",
       "2    [pengen, beli, make, up, set, buat, belajar, n...     0.192     0.000   \n",
       "3    [kalau, emang, benarbenar, lagi, butuh, min, s...     0.000     0.037   \n",
       "4    [curhat, dikit, mimin, dekat, tempat, kerjaku,...     0.023     0.000   \n",
       "..                                                 ...       ...       ...   \n",
       "574  [dari, jaman, bareng, armuh, sampe, sekarang, ...     0.000     0.159   \n",
       "575  [pingin, rayain, ultah, anak, ke, 5th, tgl, 25...     0.179     0.000   \n",
       "576  [aku, cuma, butuh, beli, memory, external, hp,...     0.196     0.000   \n",
       "577  [belum, pernah, bales, jasa, orangtua, boleh, ...     0.091     0.000   \n",
       "578  [mau, dong, beliin, kasur, buat, anakkayanya, ...     0.252     0.000   \n",
       "\n",
       "     Neutral  Compound Sentiment3Class  \n",
       "0      0.913   -0.5972        Negative  \n",
       "1      0.881    0.2263        Positive  \n",
       "2      0.808    0.5859        Positive  \n",
       "3      0.963   -0.5106        Negative  \n",
       "4      0.977    0.4215        Positive  \n",
       "..       ...       ...             ...  \n",
       "574    0.841   -0.5574        Negative  \n",
       "575    0.821    0.5719        Positive  \n",
       "576    0.804    0.5994        Positive  \n",
       "577    0.909    0.4588        Positive  \n",
       "578    0.748    0.5719        Positive  \n",
       "\n",
       "[579 rows x 9 columns]"
      ]
     },
     "execution_count": 20,
     "metadata": {},
     "output_type": "execute_result"
    }
   ],
   "source": [
    "#memanggil data_baru\n",
    "data_baru"
   ]
  },
  {
   "cell_type": "code",
   "execution_count": 43,
   "id": "40c7ee95",
   "metadata": {},
   "outputs": [],
   "source": [
    "data_baru = data #membuat fugsi data_baru dari data\n",
    "df = data_baru #membuat fungsi df dari data_baru\n",
    "#df['Sentiment3Class'].value_counts()"
   ]
  },
  {
   "cell_type": "markdown",
   "id": "3f2c85d2",
   "metadata": {},
   "source": [
    "# Traning Model"
   ]
  },
  {
   "cell_type": "code",
   "execution_count": null,
   "id": "590c489a",
   "metadata": {},
   "outputs": [],
   "source": [
    "#df = pd.read_csv('datalabelled-coba.csv', header=None)\n",
    "#df[1].value_counts()"
   ]
  },
  {
   "cell_type": "code",
   "execution_count": 55,
   "id": "2a69007c",
   "metadata": {},
   "outputs": [],
   "source": [
    "#mengubah nama kolom\n",
    "df = df.rename(columns={0:'Username', 1:'Text', 2:'clean1', 3:'clean2', 4:'Positive', 5:'Negative', 6:'Neutral', 7:'Compound', 8:'Sentiment3Class'})"
   ]
  },
  {
   "cell_type": "code",
   "execution_count": 56,
   "id": "395cd10e",
   "metadata": {},
   "outputs": [
    {
     "data": {
      "text/html": [
       "<div>\n",
       "<style scoped>\n",
       "    .dataframe tbody tr th:only-of-type {\n",
       "        vertical-align: middle;\n",
       "    }\n",
       "\n",
       "    .dataframe tbody tr th {\n",
       "        vertical-align: top;\n",
       "    }\n",
       "\n",
       "    .dataframe thead th {\n",
       "        text-align: right;\n",
       "    }\n",
       "</style>\n",
       "<table border=\"1\" class=\"dataframe\">\n",
       "  <thead>\n",
       "    <tr style=\"text-align: right;\">\n",
       "      <th></th>\n",
       "      <th>Username</th>\n",
       "      <th>Text</th>\n",
       "      <th>clean1</th>\n",
       "      <th>clean2</th>\n",
       "      <th>Positive</th>\n",
       "      <th>Negative</th>\n",
       "      <th>Neutral</th>\n",
       "      <th>Compound</th>\n",
       "      <th>Sentiment3Class</th>\n",
       "    </tr>\n",
       "  </thead>\n",
       "  <tbody>\n",
       "    <tr>\n",
       "      <th>0</th>\n",
       "      <td>irliewijanarko</td>\n",
       "      <td>setiap ngeliat ikoy2an gini , bawaannya mau is...</td>\n",
       "      <td>setiap ngeliat ikoy2an gini  bawaannya mau ise...</td>\n",
       "      <td>[setiap, ngeliat, ikoy2an, gini, bawaannya, ma...</td>\n",
       "      <td>0.000</td>\n",
       "      <td>0.087</td>\n",
       "      <td>0.913</td>\n",
       "      <td>-0.5972</td>\n",
       "      <td>Negative</td>\n",
       "    </tr>\n",
       "    <tr>\n",
       "      <th>1</th>\n",
       "      <td>agnezputrii</td>\n",
       "      <td>butuh 1 jt bang,teteh eca buat beli mixer ma l...</td>\n",
       "      <td>butuh 1 jt bangteteh eca buat beli mixer ma lo...</td>\n",
       "      <td>[butuh, 1, jt, bangteteh, eca, buat, beli, mix...</td>\n",
       "      <td>0.119</td>\n",
       "      <td>0.000</td>\n",
       "      <td>0.881</td>\n",
       "      <td>0.2263</td>\n",
       "      <td>Positive</td>\n",
       "    </tr>\n",
       "    <tr>\n",
       "      <th>2</th>\n",
       "      <td>march_3li4</td>\n",
       "      <td>pengen beli make up set buat belajar ngevlog j...</td>\n",
       "      <td>pengen beli make up set buat belajar ngevlog j...</td>\n",
       "      <td>[pengen, beli, make, up, set, buat, belajar, n...</td>\n",
       "      <td>0.192</td>\n",
       "      <td>0.000</td>\n",
       "      <td>0.808</td>\n",
       "      <td>0.5859</td>\n",
       "      <td>Positive</td>\n",
       "    </tr>\n",
       "    <tr>\n",
       "      <th>3</th>\n",
       "      <td>sofia.marzuki</td>\n",
       "      <td>kalau saya emang benar-benar lagi butuh min se...</td>\n",
       "      <td>kalau saya emang benarbenar lagi butuh min sel...</td>\n",
       "      <td>[kalau, emang, benarbenar, lagi, butuh, min, s...</td>\n",
       "      <td>0.000</td>\n",
       "      <td>0.037</td>\n",
       "      <td>0.963</td>\n",
       "      <td>-0.5106</td>\n",
       "      <td>Negative</td>\n",
       "    </tr>\n",
       "    <tr>\n",
       "      <th>4</th>\n",
       "      <td>retnoheny</td>\n",
       "      <td>curhat dikit ya, mimin. di dekat tempat kerjak...</td>\n",
       "      <td>curhat dikit ya mimin di dekat tempat kerjaku ...</td>\n",
       "      <td>[curhat, dikit, mimin, dekat, tempat, kerjaku,...</td>\n",
       "      <td>0.023</td>\n",
       "      <td>0.000</td>\n",
       "      <td>0.977</td>\n",
       "      <td>0.4215</td>\n",
       "      <td>Positive</td>\n",
       "    </tr>\n",
       "  </tbody>\n",
       "</table>\n",
       "</div>"
      ],
      "text/plain": [
       "         Username                                               Text  \\\n",
       "0  irliewijanarko  setiap ngeliat ikoy2an gini , bawaannya mau is...   \n",
       "1     agnezputrii  butuh 1 jt bang,teteh eca buat beli mixer ma l...   \n",
       "2      march_3li4  pengen beli make up set buat belajar ngevlog j...   \n",
       "3   sofia.marzuki  kalau saya emang benar-benar lagi butuh min se...   \n",
       "4       retnoheny  curhat dikit ya, mimin. di dekat tempat kerjak...   \n",
       "\n",
       "                                              clean1  \\\n",
       "0  setiap ngeliat ikoy2an gini  bawaannya mau ise...   \n",
       "1  butuh 1 jt bangteteh eca buat beli mixer ma lo...   \n",
       "2  pengen beli make up set buat belajar ngevlog j...   \n",
       "3  kalau saya emang benarbenar lagi butuh min sel...   \n",
       "4  curhat dikit ya mimin di dekat tempat kerjaku ...   \n",
       "\n",
       "                                              clean2  Positive  Negative  \\\n",
       "0  [setiap, ngeliat, ikoy2an, gini, bawaannya, ma...     0.000     0.087   \n",
       "1  [butuh, 1, jt, bangteteh, eca, buat, beli, mix...     0.119     0.000   \n",
       "2  [pengen, beli, make, up, set, buat, belajar, n...     0.192     0.000   \n",
       "3  [kalau, emang, benarbenar, lagi, butuh, min, s...     0.000     0.037   \n",
       "4  [curhat, dikit, mimin, dekat, tempat, kerjaku,...     0.023     0.000   \n",
       "\n",
       "   Neutral  Compound Sentiment3Class  \n",
       "0    0.913   -0.5972        Negative  \n",
       "1    0.881    0.2263        Positive  \n",
       "2    0.808    0.5859        Positive  \n",
       "3    0.963   -0.5106        Negative  \n",
       "4    0.977    0.4215        Positive  "
      ]
     },
     "execution_count": 56,
     "metadata": {},
     "output_type": "execute_result"
    }
   ],
   "source": [
    "#menampilkan data teratas \n",
    "df.head()"
   ]
  },
  {
   "cell_type": "code",
   "execution_count": 57,
   "id": "022e3e3f",
   "metadata": {},
   "outputs": [
    {
     "data": {
      "text/plain": [
       "Positive    396\n",
       "Negative    183\n",
       "Name: Sentiment3Class, dtype: int64"
      ]
     },
     "execution_count": 57,
     "metadata": {},
     "output_type": "execute_result"
    }
   ],
   "source": [
    "#menghitung berapa banyak kalimat positif dan negatif pada atribut sentimen3class\n",
    "df['Sentiment3Class'].value_counts()"
   ]
  },
  {
   "cell_type": "code",
   "execution_count": 58,
   "id": "6a3aa562",
   "metadata": {},
   "outputs": [
    {
     "data": {
      "text/plain": [
       "579"
      ]
     },
     "execution_count": 58,
     "metadata": {},
     "output_type": "execute_result"
    }
   ],
   "source": [
    "#panjang total sentimen3class\n",
    "len(df['Sentiment3Class'])"
   ]
  },
  {
   "cell_type": "code",
   "execution_count": 59,
   "id": "82b058b7",
   "metadata": {},
   "outputs": [],
   "source": [
    "tmpDF = []"
   ]
  },
  {
   "cell_type": "code",
   "execution_count": 60,
   "id": "5402cfd7",
   "metadata": {},
   "outputs": [],
   "source": [
    "# get positive\n",
    "\n",
    "for i, d in df.iterrows(): #mengulangi baris pada dataframe\n",
    "    if d['Sentiment3Class'] == 'Positive': #jika sentimen bernilai positif\n",
    "        if len(tmpDF) == 183: #panjang tmpdf sama dengan 183\n",
    "            continue\n",
    "        else:\n",
    "            tmpDF.append(d) #menambahkan objek d ke tmpdf"
   ]
  },
  {
   "cell_type": "code",
   "execution_count": 61,
   "id": "269b1ffe",
   "metadata": {},
   "outputs": [],
   "source": [
    "# get negative\n",
    "\n",
    "for i, d in df.iterrows(): #mengulangi baris pada dataframe\n",
    "    if d['Sentiment3Class'] == 'Negative': #jika sentimen bernilai negatif\n",
    "        tmpDF.append(d) #menambahkan objek d ke tmpdf"
   ]
  },
  {
   "cell_type": "code",
   "execution_count": 62,
   "id": "be0f1e65",
   "metadata": {},
   "outputs": [
    {
     "data": {
      "text/plain": [
       "366"
      ]
     },
     "execution_count": 62,
     "metadata": {},
     "output_type": "execute_result"
    }
   ],
   "source": [
    "#panjang total tmpdf\n",
    "len(tmpDF)"
   ]
  },
  {
   "cell_type": "code",
   "execution_count": 65,
   "id": "b38b89a1",
   "metadata": {},
   "outputs": [],
   "source": [
    "#menyimpan data baru yg udah difilter\n",
    "new_df = pd.DataFrame(tmpDF) #menggunakan dataframe tmpdf\n",
    "new_df = new_df.reset_index() #menggunakan reset_index"
   ]
  },
  {
   "cell_type": "code",
   "execution_count": 66,
   "id": "92874cc1",
   "metadata": {},
   "outputs": [],
   "source": [
    "# # Pre-requisite - Import the writer class from the csv module\n",
    "# from csv import writer\n",
    "  \n",
    "# with open('cleaning_data.csv', 'a', newline='') as f_object:  \n",
    "#     # Pass the CSV  file object to the writer() function\n",
    "#     writer_object = writer(f_object)\n",
    "#     writer_object.writerow(columns)\n",
    "#     writer_object.writerow(data_baru)  \n",
    "#     # Close the file object\n",
    "#     f_object.close()"
   ]
  },
  {
   "cell_type": "code",
   "execution_count": 67,
   "id": "87db6d6e",
   "metadata": {},
   "outputs": [],
   "source": [
    "# from aruana import Aruana\n",
    "# aruana = Aruana('pt-br')\n",
    "# sentiment = aruana.random_classification(data['Text'], classes=[0,1], balanced=True)\n",
    "# data['sentiment'] = sentiment"
   ]
  },
  {
   "cell_type": "code",
   "execution_count": null,
   "id": "4f517cc3",
   "metadata": {},
   "outputs": [],
   "source": []
  },
  {
   "cell_type": "code",
   "execution_count": 72,
   "id": "27f938c6",
   "metadata": {},
   "outputs": [],
   "source": [
    "#menambahkan nilai pada data clean2 menggunakan list\n",
    "text = new_df['clean2'].values.tolist() \n",
    "#menambahkan fungsi label untuk sentiment3class\n",
    "label = new_df['Sentiment3Class'].values"
   ]
  },
  {
   "cell_type": "code",
   "execution_count": 86,
   "id": "7284f0b0",
   "metadata": {},
   "outputs": [],
   "source": [
    "#fungsi untuk skor tf-idf pada data clean1\n",
    "tfidf_vectorizer = TfidfVectorizer().fit(new_df['clean1'])\n",
    "#fungsi tfidf dengan tranformasi\n",
    "tfidf_text = tfidf_vectorizer.transform(new_df['clean1'])"
   ]
  },
  {
   "cell_type": "code",
   "execution_count": 90,
   "id": "1d43ee78",
   "metadata": {},
   "outputs": [
    {
     "data": {
      "text/plain": [
       "TfidfVectorizer()"
      ]
     },
     "execution_count": 90,
     "metadata": {},
     "output_type": "execute_result"
    }
   ],
   "source": [
    "#memanggil fungsi tf idf vectorizer\n",
    "tfidf_vectorizer"
   ]
  },
  {
   "cell_type": "code",
   "execution_count": 91,
   "id": "fcf5b228",
   "metadata": {},
   "outputs": [
    {
     "data": {
      "text/plain": [
       "<366x2338 sparse matrix of type '<class 'numpy.float64'>'\n",
       "\twith 6514 stored elements in Compressed Sparse Row format>"
      ]
     },
     "execution_count": 91,
     "metadata": {},
     "output_type": "execute_result"
    }
   ],
   "source": [
    "#memanggil fungsi tfidf_text \n",
    "tfidf_text"
   ]
  },
  {
   "cell_type": "markdown",
   "id": "62972db9",
   "metadata": {},
   "source": [
    "SVM"
   ]
  },
  {
   "cell_type": "code",
   "execution_count": 75,
   "id": "a780f5eb",
   "metadata": {},
   "outputs": [],
   "source": [
    "#library membagi ke data train dan test \n",
    "from sklearn.model_selection import train_test_split\n",
    "#membagi data menjadi training dan test dengan split dengan training 70% dan test 30%\n",
    "xtrain, xtest, ytrain, ytest = train_test_split(tfidf_text, label, test_size=0.3, random_state = 11)"
   ]
  },
  {
   "cell_type": "code",
   "execution_count": 76,
   "id": "19a2bfa7",
   "metadata": {},
   "outputs": [],
   "source": [
    "#import svm model\n",
    "from sklearn.svm import SVC\n",
    "#library untuk klasifikasi dan menghitung confusion matrix\n",
    "from sklearn.metrics import classification_report, confusion_matrix"
   ]
  },
  {
   "cell_type": "code",
   "execution_count": 77,
   "id": "447c124d",
   "metadata": {},
   "outputs": [
    {
     "data": {
      "text/plain": [
       "0.7909090909090909"
      ]
     },
     "execution_count": 77,
     "metadata": {},
     "output_type": "execute_result"
    }
   ],
   "source": [
    "model = SVC(kernel='linear').fit(xtrain, ytrain) #fungsi model menggunakan svm linear dengan train\n",
    "model.score(xtest, ytest) #menghitung skor dari model test"
   ]
  },
  {
   "cell_type": "code",
   "execution_count": 78,
   "id": "4fcb1d19",
   "metadata": {},
   "outputs": [
    {
     "name": "stdout",
     "output_type": "stream",
     "text": [
      "              precision    recall  f1-score   support\n",
      "\n",
      "    Negative       0.79      0.81      0.80        57\n",
      "    Positive       0.79      0.77      0.78        53\n",
      "\n",
      "    accuracy                           0.79       110\n",
      "   macro avg       0.79      0.79      0.79       110\n",
      "weighted avg       0.79      0.79      0.79       110\n",
      "\n"
     ]
    }
   ],
   "source": [
    "pred = model.predict(xtest) #memprediksi model dengan test set\n",
    "print(classification_report(pred, ytest)) #ouput dari klasifikasi"
   ]
  },
  {
   "cell_type": "code",
   "execution_count": 79,
   "id": "c07ddefa",
   "metadata": {},
   "outputs": [
    {
     "name": "stdout",
     "output_type": "stream",
     "text": [
      "[[46 11]\n",
      " [12 41]]\n"
     ]
    }
   ],
   "source": [
    "#menampilkan confusion matrix pred dengan test\n",
    "print(confusion_matrix(pred, ytest))"
   ]
  },
  {
   "cell_type": "code",
   "execution_count": 80,
   "id": "ae2b83ed",
   "metadata": {},
   "outputs": [
    {
     "data": {
      "text/plain": [
       "array([0.72972973, 0.75675676, 0.81081081, 0.72972973, 0.67567568,\n",
       "       0.91891892, 0.83333333, 0.69444444, 0.80555556, 0.75      ])"
      ]
     },
     "execution_count": 80,
     "metadata": {},
     "output_type": "execute_result"
    }
   ],
   "source": [
    "#menggunakan sklearn dengan library cross validation\n",
    "from sklearn.model_selection import cross_val_score \n",
    "#membubat classifier svm dengan kernel linear\n",
    "clf = SVC(kernel='linear') \n",
    "#menghitung crossvalidation dengan function scores dengan cv 10 kali\n",
    "scores = cross_val_score(clf, tfidf_text, label, cv=10) \n",
    "scores #memanggil funtion scores"
   ]
  },
  {
   "cell_type": "code",
   "execution_count": 81,
   "id": "e4be3aeb",
   "metadata": {},
   "outputs": [
    {
     "data": {
      "text/plain": [
       "0.7704954954954955"
      ]
     },
     "execution_count": 81,
     "metadata": {},
     "output_type": "execute_result"
    }
   ],
   "source": [
    "#menghitung rata-rata skor \n",
    "scores.mean()"
   ]
  },
  {
   "cell_type": "code",
   "execution_count": null,
   "id": "dcae129e",
   "metadata": {},
   "outputs": [],
   "source": []
  },
  {
   "cell_type": "markdown",
   "id": "615a3ac7",
   "metadata": {},
   "source": [
    "# Testing Model"
   ]
  },
  {
   "cell_type": "code",
   "execution_count": 82,
   "id": "8320cb7e",
   "metadata": {},
   "outputs": [],
   "source": [
    "# from sklearn.externals import joblib\n",
    "import joblib #import library joblib\n",
    "joblib.dump(model, 'svm-coba.pkl') #menampung dengan data baru di pkl\n",
    "joblib_model = joblib.load('svm-coba.pkl') "
   ]
  },
  {
   "cell_type": "code",
   "execution_count": 83,
   "id": "27469e67",
   "metadata": {},
   "outputs": [],
   "source": [
    "def prediksi(text): #fungsi prediksi\n",
    "    text = text.lower() #memanggil text untuk mengubah string menjadi huruf kecil\n",
    "    text = clean_data(text) #memanggil text clean data \n",
    "    text = clean_data2(text) #memanggil text cleandata2 \n",
    "    text = ' '.join(text) #memanggil text dan menggabungkan\n",
    "    tfidf_vektor = tfidf_vectorizer.transform([text]) #tfidf dengan transformasi\n",
    "    pred = joblib_model.predict(tfidf_vektor) #memprediksi model pada joblib dengan tfidf\n",
    "    if pred == 'Positive': #jika model positif\n",
    "        sentimen = 'positif' #maka hasil sentimen positif\n",
    "    else: #lainnya\n",
    "        sentimen = 'negatif' #maka hasil sentimen negatif\n",
    "    return sentimen #mengembalikan nilai sentimen"
   ]
  },
  {
   "cell_type": "code",
   "execution_count": 84,
   "id": "154e64d6",
   "metadata": {
    "scrolled": true
   },
   "outputs": [
    {
     "data": {
      "text/plain": [
       "'positif'"
      ]
     },
     "execution_count": 84,
     "metadata": {},
     "output_type": "execute_result"
    }
   ],
   "source": [
    "# mencari prediksi pada kalimat \n",
    "prediksi('semangat ikut, semoga dapat kali iNI')"
   ]
  },
  {
   "cell_type": "code",
   "execution_count": 85,
   "id": "18b2d3fe",
   "metadata": {},
   "outputs": [
    {
     "data": {
      "text/plain": [
       "'negatif'"
      ]
     },
     "execution_count": 85,
     "metadata": {},
     "output_type": "execute_result"
    }
   ],
   "source": [
    "# mencari prediksi pada kalimat\n",
    "prediksi('jangan percaya, ikoy-ikoy penipu!!!')"
   ]
  },
  {
   "cell_type": "code",
   "execution_count": null,
   "id": "376ff9be",
   "metadata": {},
   "outputs": [],
   "source": []
  }
 ],
 "metadata": {
  "kernelspec": {
   "display_name": "Python 3 (ipykernel)",
   "language": "python",
   "name": "python3"
  },
  "language_info": {
   "codemirror_mode": {
    "name": "ipython",
    "version": 3
   },
   "file_extension": ".py",
   "mimetype": "text/x-python",
   "name": "python",
   "nbconvert_exporter": "python",
   "pygments_lexer": "ipython3",
   "version": "3.9.12"
  }
 },
 "nbformat": 4,
 "nbformat_minor": 5
}
